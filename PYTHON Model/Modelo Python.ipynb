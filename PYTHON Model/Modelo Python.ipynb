{
 "cells": [
  {
   "cell_type": "markdown",
   "id": "67027c53",
   "metadata": {},
   "source": [
    "# EVACUACIÓN DE VALENCIA EN PYTHON"
   ]
  },
  {
   "cell_type": "markdown",
   "id": "0fb9a550",
   "metadata": {},
   "source": [
    "**Grupo 5 Proyecto III**\n",
    "\n",
    "- Elías Balbaneda Herreros\n",
    "- Ángela Mira Abad\n",
    "- Arnau Garcia i Cucó\n",
    "- Daniel Oliver Belando\n",
    "- Andreu Simó Vidal\n",
    "- José Gellida Bayarri"
   ]
  },
  {
   "cell_type": "markdown",
   "id": "f9b50771",
   "metadata": {},
   "source": [
    "## ESTABLECIMIENTO DE PARÁMETROS"
   ]
  },
  {
   "cell_type": "markdown",
   "id": "dc2a0a35",
   "metadata": {},
   "source": [
    "### LIBRERÍAS\n",
    "\n",
    "Se importarán las siguientes librerías para realizar este proyecto:\n",
    "\n",
    "- `networkx` para realizar el grafo de la ciudad.\n",
    "- `matplotlib` para realizar las diferentes visualizaciones.\n",
    "- `os` para facilitar el acceso a loss archivos\n",
    "- `pandas` para guardar e importar dataframes.\n",
    "- `geopandas` para obtener una mayor información a partir de los archivos \".shp\" que usemos.\n",
    "- `numpy` para optimizar diversas labores matemáticas.\n",
    "- `random` para realizar aproximaciones aleatorias siguiendo una dist. uniforme."
   ]
  },
  {
   "cell_type": "code",
   "execution_count": 1,
   "id": "eb062409",
   "metadata": {},
   "outputs": [],
   "source": [
    "import networkx as nx\n",
    "import matplotlib.pyplot as plt\n",
    "import os\n",
    "import pandas as pd\n",
    "import geopandas as gpd\n",
    "import numpy as np\n",
    "from random import random"
   ]
  },
  {
   "cell_type": "markdown",
   "id": "947779a4",
   "metadata": {},
   "source": [
    "### GRAFO INICIAL\n",
    "\n",
    "El grafo inicial de Valencia lo obtenemos mediante el \".shp2 de los ejes lineales de las calles. con la función `nx.read_shp`, se estimaría el comportamiento de las calles, estableciendo nodos en los diferentes cruces y aristas en los diferentes tramos. Se usaría la distancia euclidea del tramo cómo peso de las aristas, usándolo así como si de difernetes distancis se tratáse."
   ]
  },
  {
   "cell_type": "code",
   "execution_count": null,
   "id": "caf3a6b8",
   "metadata": {},
   "outputs": [],
   "source": [
    "G=nx.read_shp('./EJES_CALLES/EJES-CALLE.shp') \n",
    "pos = {k: v for k,v in enumerate(G.nodes())}\n",
    "\n",
    "X=nx.Graph()\n",
    "X.add_nodes_from(pos.keys())\n",
    "l=[set(x) for x in G.edges()]\n",
    "        \n",
    "edg_mal=[tuple(k for k,v in pos.items() if v in sl) for sl in l]\n",
    "nx.draw_networkx_nodes(X,pos,node_size=0.01,node_color='r')\n",
    "edg = []\n",
    "\n",
    "for n in edg_mal:\n",
    "    if len(n)>1:\n",
    "        edg.append((n[0],n[1],round(((pos[n[0]][0] - pos[n[1]][0])**2 + (pos[n[0]][1] - pos[n[1]][1])**2)**(1/2),4)))\n",
    "   \n",
    "\n",
    "X.add_weighted_edges_from(edg)\n",
    "nx.draw_networkx_edges(X,pos)\n",
    "\n",
    "dic = {}\n",
    "for n in X.edges.data('weight'):\n",
    "    dic[(n[0],n[1])] = n[2]\n",
    "    \n",
    "plt.xlabel('X [m]')\n",
    "plt.ylabel('Y [m]')\n",
    "plt.title('Valencia')"
   ]
  },
  {
   "cell_type": "markdown",
   "id": "0f7bfcaa",
   "metadata": {},
   "source": [
    "### REPARTO DE HABITANTES\n",
    "\n",
    "En este caso, utilizando `geopandas`, importaríamos los datos del shape file de las poblaciones en las diferentes manzanas. Los polígonos también quedan almacenados en el dataset."
   ]
  },
  {
   "cell_type": "code",
   "execution_count": null,
   "id": "50a1964a",
   "metadata": {},
   "outputs": [],
   "source": [
    "edificios = gpd.read_file('./MANZANAS_POB/MANZANAS_POB.shp')\n",
    "edificios = edificios.fillna(0)\n",
    "edificios.head()"
   ]
  },
  {
   "cell_type": "markdown",
   "id": "cbcde07a",
   "metadata": {},
   "source": [
    "A partir de la siguiente función (`repartir_habitantes`), se obtendría una aproximación de los habitantes que \"residen\" en cada uno de los nodos. Este atributo serviría para obtener un nodo inicial a partir del cual poder determinar flujos y caminos. devolvería un diccionario con los habitantes correspondientes a cada uno de los nodos.\n",
    "\n",
    "La función generaría un punto aleatorio dentro del espacio de representación del polígono del edificio. Despues se comprobaría que dicho punto estuviése incluído en dicho polígono, y, por último, encontraría para dicho punto su nodo más próximo, asignándolo a éste último. Este proceso se repetirí apara todos los habitantes de los diferentes edificios de la ciudad."
   ]
  },
  {
   "cell_type": "code",
   "execution_count": null,
   "id": "985b8ba2",
   "metadata": {},
   "outputs": [],
   "source": [
    "def repartir_habitantes(grafo, edificios):\n",
    "\n",
    "    def punto_aleatorio():\n",
    "        a = pol.bounds\n",
    "        ymin, ymax = a[1], a[3]\n",
    "        xmin, xmax = a[0], a[2]\n",
    "        y = random()*(ymax-ymin) + ymin\n",
    "        x = random()*(xmax-xmin) + xmin\n",
    "        return x,y\n",
    "\n",
    "    def comprobar_punto(x,y):\n",
    "        return shp.geometry.Point(x,y).within(pol)\n",
    "    \n",
    "    def nodo_mas_cercano(x,y):\n",
    "        dist_min = 10**10\n",
    "        nodo = 0\n",
    "        for k,v in pos.items():\n",
    "            lon, lat = v\n",
    "            dist = ((lon-x)**2 + (lat-y)**2)\n",
    "            if dist < dist_min:\n",
    "                nodo = k\n",
    "                dist_min = dist\n",
    "        return nodo\n",
    "    \n",
    "    h = 0\n",
    "    habitantes = {}\n",
    "    for i in list(grafo.nodes):\n",
    "        habitantes[i] = 0\n",
    "    for j in edificios.index:\n",
    "        pol = edificios.iloc[j,5]\n",
    "        hab = int(edificios.iloc[j,4])\n",
    "        for k in range(hab):\n",
    "            print (f\"Va por {h:.2f} %\", end=\"\\r\")\n",
    "            valid = False\n",
    "            while not valid:\n",
    "                x,y = punto_aleatorio()\n",
    "                if comprobar_punto(x,y):\n",
    "                    n = nodo_mas_cercano(x,y)\n",
    "                    habitantes[n] += 1\n",
    "                    valid = True\n",
    "                    h += 1/7782.37\n",
    "    return habitantes"
   ]
  },
  {
   "cell_type": "markdown",
   "id": "f891eac2",
   "metadata": {},
   "source": [
    "En este caso no se ejecutará debido a su alto coste computacional, debido a las diferentes comprobaciones que realiza la función internamente. Posteriormente, se almacenaría el vector con dichos valores."
   ]
  },
  {
   "cell_type": "code",
   "execution_count": null,
   "id": "f77be3d5",
   "metadata": {},
   "outputs": [],
   "source": [
    "## habs = repartir_habitantes(X, edificios)\n",
    "## habs = np.array(list(habs.values()))\n",
    "## np.savetxt(\"habs.csv\",habs)"
   ]
  },
  {
   "cell_type": "markdown",
   "id": "a6841c79",
   "metadata": {},
   "source": [
    "Para modelar este reparto, se obtendría a partir del \".csv\" en el que está almacenada dicha información."
   ]
  },
  {
   "cell_type": "code",
   "execution_count": null,
   "id": "11f4ea93",
   "metadata": {},
   "outputs": [],
   "source": [
    "habs = np.array(np.loadtxt(\"habs.csv\"),dtype = np.int32)\n",
    "habs = list(habs)"
   ]
  },
  {
   "cell_type": "markdown",
   "id": "d8835c27",
   "metadata": {},
   "source": [
    "### ESTIMACIÓN DE LOS VEHÍCULOS\n",
    "\n",
    "Para la estimación de los vehículos que circularían en caso de evacuación interpretamos una posibilidaad de que dicho habitante fuése conductor de coche. En este caso, la tasa de coches por habitante sería de 0,2. Además, en dicho caso, se interpretaría que en cada coche son llevadas 3 personas o menos al punto de evacuación, en función de los habitantes restantes en un nodo."
   ]
  },
  {
   "cell_type": "code",
   "execution_count": null,
   "id": "00fe2e8c",
   "metadata": {},
   "outputs": [],
   "source": [
    "transportes = []\n",
    "\n",
    "for i in habs:\n",
    "    vehiculos = 0\n",
    "    peatones = 0\n",
    "    for j in range(i):\n",
    "        if random() > 0.2:\n",
    "            peatones += 1\n",
    "        else:\n",
    "            if peatones < 2:\n",
    "                peatones = 0\n",
    "            else:\n",
    "                peatones -= 2\n",
    "            vehiculos += 1\n",
    "    transportes.append([vehiculos, peatones])"
   ]
  },
  {
   "cell_type": "markdown",
   "id": "64e51abb",
   "metadata": {},
   "source": [
    "### ESTABLECIMIENTO DE LAS SALIDAS\n",
    "\n",
    "En este caso, para establecer las salidas serán usadas dos funciones: `ampliar`, para obtener una visión concreta de Valencia en unas coordenadas concretas, y `l_nodos`, que determinaría cuales habrían sido, en aquel caso, los nodos a escoger."
   ]
  },
  {
   "cell_type": "code",
   "execution_count": null,
   "id": "e5e8d9b2",
   "metadata": {},
   "outputs": [],
   "source": [
    "def ampliar(x,y, X,pos,dif=50):\n",
    "    nx.draw_networkx_nodes(X,pos,node_size=0.5,node_color='r')\n",
    "    nx.draw_networkx_edges(X,pos)\n",
    "    plt.xlim(x-dif, x+dif)\n",
    "    plt.ylim(y-dif, y+dif)\n",
    "    \n",
    "def l_nodos(nodos,x,y,dif=50):\n",
    "    for n in range(len(nodos)):\n",
    "        if nodos[n][0]<x+dif and nodos[n][0]>x-dif and nodos[n][1]>y-dif and nodos[n][1]<y+dif:\n",
    "            print(nodos[n],n)"
   ]
  },
  {
   "cell_type": "markdown",
   "id": "53da6502",
   "metadata": {},
   "source": [
    "Aqui se mostraría un ejemplo de cómo funcionan ambas funciones."
   ]
  },
  {
   "cell_type": "code",
   "execution_count": null,
   "id": "0d59d7ff",
   "metadata": {},
   "outputs": [],
   "source": [
    "ampliar(721500, 4369000, X,pos,dif=100)\n",
    "l_nodos(nodos,721500, 4369000,dif=50)"
   ]
  },
  {
   "cell_type": "markdown",
   "id": "ffb06e85",
   "metadata": {},
   "source": [
    "La lista de salidas obtenidas sería la siguiente."
   ]
  },
  {
   "cell_type": "code",
   "execution_count": null,
   "id": "96796ef4",
   "metadata": {},
   "outputs": [],
   "source": [
    "salidas =[8168,8206,8472,8031,7034,1222,1957,9125,8266,2973,4665,4887,3587,7716,276]"
   ]
  },
  {
   "cell_type": "code",
   "execution_count": null,
   "id": "65913a04",
   "metadata": {},
   "outputs": [],
   "source": [
    "nodos = G.nodes()\n",
    "l = [nodos[salidas[n]] for n in range(len(salidas))]\n",
    "print(l)\n",
    "nx.draw_networkx_edges(X,pos)\n",
    "\n",
    "plt.xlim(721000, 736000)\n",
    "plt.ylim(4350000, 4369000)\n",
    "plt.xlabel('X [m]')\n",
    "plt.ylabel('Y [m]')\n",
    "plt.title('Valencia')\n",
    "plt.plot([n[0] for n in l],[n[1] for n in l],'ro')"
   ]
  },
  {
   "cell_type": "markdown",
   "id": "0f88ea58",
   "metadata": {},
   "source": [
    "### OBTENCIÓN DE LA COMPONENTE CONEXA DE LA CIUDAD\n",
    "\n",
    "A la hora de plantear la evacuación tuvimos un gran problema. La ciudad entera, como grafo, no era conexo. Había diversos poblados que, a la hora de representarlos, no estaban conectados con el resto del municipio, sino con otras localidades. Esto era un gran problema a la hora de modelar la evacuación, ya que no podrían acceder a salida alguna estando apartados de la ciudad o del resto de poblaciones.\n",
    "\n",
    "En este caso, mediante la función `connected_components`, se obtienen las componentes conexas en función de su cantidad de nodos. En este caso, los nodos del núcleo de población de la ciudad sería el primer elemento de dicha iteración."
   ]
  },
  {
   "cell_type": "code",
   "execution_count": null,
   "id": "13a39024",
   "metadata": {},
   "outputs": [],
   "source": [
    "vlc_nodos = list(list(nx.connected_components(X))[0])\n",
    "print(vlc_nodos[:10])"
   ]
  },
  {
   "cell_type": "markdown",
   "id": "46c2691b",
   "metadata": {},
   "source": [
    "A partir de estos nodos, obtenemos un nuevo grafo, con los nodos y las aristas que corresponden únicamente a la componente de la ciudad de Valencia."
   ]
  },
  {
   "cell_type": "code",
   "execution_count": null,
   "id": "70a1437a",
   "metadata": {},
   "outputs": [],
   "source": [
    "vlc=nx.Graph()\n",
    "vlc.add_nodes_from(vlc_nodos)\n",
    "vlc_edg = []\n",
    "for v1,v2,dist in edg:\n",
    "    if v1 in vlc_nodos and v2 in vlc_nodos:\n",
    "        vlc_edg.append((v1,v2,dist))\n",
    "vlc.add_weighted_edges_from(vlc_edg)\n",
    "nx.draw_networkx_edges(vlc,pos)\n",
    "plt.xlim(721000, 732500)\n",
    "plt.ylim(4360000, 4381000)\n",
    "l = [nodos[salidas[n]] for n in range(len(salidas))]\n",
    "plt.plot([n[0] for n in l],[n[1] for n in l],'ro')"
   ]
  },
  {
   "cell_type": "markdown",
   "id": "89192a32",
   "metadata": {},
   "source": [
    "### DISTANCIAS Y CAMINOS A LAS SALIDAS\n",
    "\n",
    "Para interpretar cómo sería el proceso de evacuación, obtendríamos los diferentes caminos y pesos de cada uno de los nodos para todas las salidas el grafo. Al igual que en el caso de los habitantes, estos datos son almacenados en un \".csv\" externo, para futuras ocasiones.\n",
    "\n",
    "En este caso, se ejecuta Dijkstra para todos los nodos del grafo en relación a todas las salida de éste. Se obtienen pesos y se guardan en un diccionario. A partir de esta lista de diccionarios, se obtiene un dataframe, mediante el cuál se va a trabajar en este aspecto."
   ]
  },
  {
   "cell_type": "code",
   "execution_count": null,
   "id": "735dc27e",
   "metadata": {},
   "outputs": [],
   "source": [
    "def todos_escapes(salidas,nodos):\n",
    "    lista = []\n",
    "    for i in nodos:\n",
    "        print(i,end = \"\\r\")\n",
    "        dists = {\"nodo\":i}\n",
    "        for s in salidas:\n",
    "            camino = nx.shortest_path(vlc, i, s, weight=\"weight\")\n",
    "            dists[str(s)+\"_camino\"] = camino\n",
    "            dists[str(s)+\"_peso\"]  = nx.classes.function.path_weight(vlc, camino, weight=\"weight\")\n",
    "        lista.append(dists)\n",
    "    return lista"
   ]
  },
  {
   "cell_type": "markdown",
   "id": "3ecd5d88",
   "metadata": {},
   "source": [
    "A partir de los datos previos se crea un \".csv\" que almacena estos caminos y estos pesos."
   ]
  },
  {
   "cell_type": "code",
   "execution_count": null,
   "id": "da3804a9",
   "metadata": {},
   "outputs": [],
   "source": [
    "## escs = todos_escapes(salidas, vlc_nodos)\n",
    "## escapes = pd.DataFrame(escs)\n",
    "## escapes.to_csv(\"escapes.csv\",sep = \";\")"
   ]
  },
  {
   "cell_type": "markdown",
   "id": "9cf55958",
   "metadata": {},
   "source": [
    "Posteriormente, el dataframe se obtiene a partir de estos datos."
   ]
  },
  {
   "cell_type": "code",
   "execution_count": null,
   "id": "81e44a2b",
   "metadata": {},
   "outputs": [],
   "source": [
    "escapes = pd.read_csv(\"escapes.csv\",sep = \";\")\n",
    "escapes = escapes.set_index(\"nodo\")\n",
    "escapes.head()"
   ]
  },
  {
   "cell_type": "markdown",
   "id": "1d0510df",
   "metadata": {},
   "source": [
    "## MODELOS"
   ]
  },
  {
   "cell_type": "markdown",
   "id": "46c51813",
   "metadata": {},
   "source": [
    "### APROXIMACIÓN BÁSICA\n",
    "\n",
    "Mediante este caso, se obtienen las salidas para cada nodo en base a sus distancias. La salida con una mejor distancia para cada nodo es almacenada en la lista `mejor_salida`."
   ]
  },
  {
   "cell_type": "code",
   "execution_count": null,
   "id": "ee36e77b",
   "metadata": {},
   "outputs": [],
   "source": [
    "columnas = [i for i in escapes.columns if i[-5:] == \"_peso\"]\n",
    "pesos = escapes[columnas].to_numpy()\n",
    "mejor_salida = []\n",
    "for i in range(np.shape(pesos)[0]):\n",
    "    dists = pesos[i]\n",
    "    ind = np.argmin(dists)\n",
    "    mejor_salida.append((ind,dists[ind]))\n",
    "print(mejor_salida[:20])"
   ]
  },
  {
   "cell_type": "markdown",
   "id": "2c10c185",
   "metadata": {},
   "source": [
    "En este caso, se calcula para cada una de las salidas la gente que saldrá en ella con la lista `gente_salida`"
   ]
  },
  {
   "cell_type": "code",
   "execution_count": null,
   "id": "0042f706",
   "metadata": {},
   "outputs": [],
   "source": [
    "gente_salida = [0]*len(salidas)\n",
    "i = 0\n",
    "for k,v in mejor_salida:\n",
    "    gente_salida[k] += habs[vlc_nodos[i]]\n",
    "    i += 1\n",
    "print(gente_salida)"
   ]
  },
  {
   "cell_type": "markdown",
   "id": "82854b7f",
   "metadata": {},
   "source": [
    "### MODELO FINAL\n",
    "\n",
    "Para realizar este modelo, primeramente, se obtendrá el `array` `transportes_vlc`, a partir de los transportes obtenidos de los nodos de la ciudad de Valencia."
   ]
  },
  {
   "cell_type": "code",
   "execution_count": null,
   "id": "885edce2",
   "metadata": {},
   "outputs": [],
   "source": [
    "transportes_vlc = np.array(transportes)[vlc_nodos]"
   ]
  },
  {
   "cell_type": "markdown",
   "id": "6655ece1",
   "metadata": {},
   "source": [
    "Posteriormente, se genera la función principal, `salida`. Esta función recibiría la lista de los transportes de la ciudad, el dataframe con los diferentes caminos y pesos de las salidas, y, a su vez, tambiñen la lista de las salidas, una lista de pesos para cada una de las salidas, otra con los carriles para cada una de las salidas, y una cantidad de minutos determinados en los que realizar el análisis.\n",
    "\n",
    "A partir de estos datos, se obtendría una lista, en la que se aprecian tres estados: agentes evacuados, agentes esperando salir (en cola), y agentes que aún no habrían sido evacuados. Las salidas se asignarían mediante una ponderación de las distancias de cada uno de los surtidores, y obteniendo posteriormente a esta ponderación, las mediciones mínimas. Posteriormente, asignando una velocidad aleatoria para cada uno de los vehiculos y peatones, se determinaría el tiempo que tardarían en llegar a la salida, y, mediante los carriles de las carreteras, el flujo máximo de coches que podrían pasar por minuto por ahí.\n",
    "\n",
    "El análisis se haría en periodos de minutos."
   ]
  },
  {
   "cell_type": "code",
   "execution_count": null,
   "id": "46f89a66",
   "metadata": {},
   "outputs": [],
   "source": [
    "def salida(transportes_vlc, escapes, salidas, vector, f_max_coches, minutos = 60):\n",
    "\n",
    "    columnas = [i for i in escapes.columns if i[-5:] == \"_peso\"]\n",
    "    pesos = escapes[columnas].to_numpy()\n",
    "    vector = np.array(vector)\n",
    "    \n",
    "    n_nodos = pesos.shape[0]\n",
    "    n_salidas = len(salidas)\n",
    "    \n",
    "    evacuacion_total = [[] for i in range(n_salidas)]\n",
    "    \n",
    "    ev_completa = [-1]*n_salidas\n",
    "    \n",
    "    mejor_salida = []\n",
    "    for i in range(n_nodos):\n",
    "        dists = pesos[i]\n",
    "        pond = np.multiply(dists, vector)\n",
    "        ind = np.argmin(pond)\n",
    "        mejor_salida.append((ind,dists[ind]))\n",
    "    \n",
    "    asig_salida = []\n",
    "    for i in range(n_salidas):\n",
    "        asig_salida.append(list())\n",
    "    for i in range(n_nodos):\n",
    "        k,v = mejor_salida[i]\n",
    "        asig_salida[int(k)].append((list(transportes_vlc[i]),v))\n",
    "\n",
    "    evacuacion = []\n",
    "    tiempos_salida = []\n",
    "    \n",
    "    for i in range(n_salidas):\n",
    "        lista_i = [[0,0,0],[0,0,0]]\n",
    "        salidas_i = [[0]*minutos,[0]*minutos]\n",
    "        for k,v in asig_salida[i]:\n",
    "            lista_i[0][2] += int(k[0])\n",
    "            lista_i[1][2] += int(k[1])\n",
    "            for j in range(int(k[0])):\n",
    "                t = int((v/(random()*7+7))//60)\n",
    "                if t < minutos:\n",
    "                    salidas_i[0][t] += 1\n",
    "            for j in range(int(k[1])):\n",
    "                t = int((v/(random()*0.2+1.3))//60)\n",
    "                if t < minutos:\n",
    "                    salidas_i[1][t] += 1\n",
    "        evacuacion.append(lista_i)\n",
    "        tiempos_salida.append(salidas_i)\n",
    "    \n",
    "    def calcular_evacuados(i):\n",
    "        for j in range(n_salidas):\n",
    "            ent_v = tiempos_salida[j][0][i]\n",
    "            evacuacion[j][0][2] -= ent_v\n",
    "            evacuacion[j][0][1] += ent_v\n",
    "            flujo_v = min(vehiculos_max[j],evacuacion[j][0][1])\n",
    "            evacuacion[j][0][1] -= flujo_v\n",
    "            evacuacion[j][0][0] += flujo_v\n",
    "            ent_p = tiempos_salida[j][1][i]\n",
    "            evacuacion[j][1][2] -= ent_p\n",
    "            evacuacion[j][1][1] += ent_p\n",
    "            flujo_p = min(160,evacuacion[j][1][1])\n",
    "            evacuacion[j][1][1] -= flujo_p\n",
    "            evacuacion[j][1][0] += flujo_p\n",
    "            evacuacion_total[j].append([i.copy() for i in evacuacion[j]])\n",
    "    \n",
    "        for j in range(n_salidas):\n",
    "            if sum(evacuacion[j][0][1:])+sum(evacuacion[j][1][1:]) == 0 and ev_completa[j] == -1:\n",
    "                ev_completa[j] = i+1\n",
    "        \n",
    "    \n",
    "    def imprimir_parametros(i):\n",
    "        cadena = f\"MINUTO {i+1}\"\n",
    "        cadena += f\"\"\"\n",
    "--------------------\n",
    "COCHES: Evacuados   {[evacuacion[j][0][0] for j in range(n_salidas)]}\n",
    "        En cola     {[evacuacion[j][0][1] for j in range(n_salidas)]}\n",
    "        Por evacuar {[evacuacion[j][0][2] for j in range(n_salidas)]}\n",
    "PEATONES: Evacuados {[evacuacion[j][1][0] for j in range(n_salidas)]}\n",
    "        En cola     {[evacuacion[j][1][1] for j in range(n_salidas)]}\n",
    "        Por evacuar {[evacuacion[j][1][2] for j in range(n_salidas)]}\n",
    "        \"\"\"\n",
    "        \n",
    "        print(cadena)\n",
    "\n",
    "    for i in range(minutos):\n",
    "        calcular_evacuados(i)\n",
    "        imprimir_parametros(i)\n",
    "    print(\"\"\"TIEMPO PARA EVACUAR SALIDA\n",
    "--------------------\"\"\")\n",
    "    print(ev_completa)\n",
    "    return evacuacion_total"
   ]
  },
  {
   "cell_type": "markdown",
   "id": "bb1d33ab",
   "metadata": {},
   "source": [
    "Aquí se ejecutaría la evolución del modelo óptimo que obtendríamos."
   ]
  },
  {
   "cell_type": "code",
   "execution_count": null,
   "id": "f37c3ae2",
   "metadata": {},
   "outputs": [],
   "source": [
    "n_carriles = [2,1,2,2,0.1,4,0.1,1,4,4,2,4,4,1,4]\n",
    "vehiculos_max = [i*80 for i in n_carriles]\n",
    "pesos_salidas = [1.255,1.075,1.12,1.035,4.1,1.48,10.2,0.7,1.595,2.23,0.89,1.395,1.295,2.645,1.505]\n",
    "evolucion = salida(transportes_vlc, escapes, salidas,pesos_salidas , vehiculos_max, 188)"
   ]
  },
  {
   "cell_type": "markdown",
   "id": "953bacc6",
   "metadata": {},
   "source": [
    "Las siguientes listas se obtendrán para realizar los gráficos de los estados de los agentes por minutos."
   ]
  },
  {
   "cell_type": "code",
   "execution_count": null,
   "id": "82022d43",
   "metadata": {},
   "outputs": [],
   "source": [
    "coches_evacuados = []\n",
    "coches_en_cola = []\n",
    "coches_no_evacuados = []\n",
    "peatones_evacuados = []\n",
    "peatones_en_cola = []\n",
    "peatones_no_evacuados = []\n",
    "for i in range(len(evolucion[0])):\n",
    "    c_ev = 0\n",
    "    c_en_cola = 0\n",
    "    c_no_ev = 0\n",
    "    p_ev = 0\n",
    "    p_en_cola = 0\n",
    "    p_no_ev = 0\n",
    "    for j in range(len(evolucion)):\n",
    "        c_ev += evolucion[j][i][0][0]\n",
    "        c_en_cola += evolucion[j][i][0][1]\n",
    "        c_no_ev += evolucion[j][i][0][2]\n",
    "        p_ev += evolucion[j][i][1][0]\n",
    "        p_en_cola += evolucion[j][i][1][1]\n",
    "        p_no_ev += evolucion[j][i][1][2]\n",
    "    coches_evacuados.append(c_ev)\n",
    "    coches_en_cola.append(c_en_cola)\n",
    "    coches_no_evacuados.append(c_no_ev)\n",
    "    peatones_evacuados.append(p_ev)\n",
    "    peatones_en_cola.append(p_en_cola)\n",
    "    peatones_no_evacuados.append(p_no_ev)"
   ]
  },
  {
   "cell_type": "markdown",
   "id": "1f0261d5",
   "metadata": {},
   "source": [
    "A partir de estas y de listas auxiliares, harían gráficos de barras apiladas, los cuáles representarían los diferentes estados para los diferentes minutos en el modelo."
   ]
  },
  {
   "cell_type": "code",
   "execution_count": null,
   "id": "33287322",
   "metadata": {},
   "outputs": [],
   "source": [
    "mins = list(range(len(evolucion[0])))\n",
    "coches_aux = [coches_en_cola[i]+coches_no_evacuados[i] for i in mins]\n",
    "peatones_aux = [peatones_en_cola[i]+peatones_no_evacuados[i] for i in mins]\n",
    "fig, ax = plt.subplots()\n",
    "ax.bar(mins, coches_no_evacuados, label = \"Non evacuated\", color = \"grey\")\n",
    "ax.bar(mins, coches_en_cola, label = \"In congestion\", color = \"gold\", bottom = coches_no_evacuados)\n",
    "ax.bar(mins, coches_evacuados, label = \"Evacuated\", color = \"green\", bottom = coches_aux)\n",
    "ax.set_title(\"Car evacuation\", fontsize = 30)\n",
    "ax.set_ylabel(\"Evacuated cars\", fontsize = 20)\n",
    "ax.set_xlabel(\"Minutes\", fontsize = 20)\n",
    "plt.xticks(fontsize = 15)\n",
    "plt.yticks(fontsize = 15)\n",
    "plt.legend(prop = {\"size\" : 24}, framealpha = 1)\n",
    "fig.set_size_inches(24,13.5)\n",
    "fig.savefig(\"coches_plt.png\")\n",
    "plt.show()"
   ]
  },
  {
   "cell_type": "code",
   "execution_count": null,
   "id": "38705d93",
   "metadata": {},
   "outputs": [],
   "source": [
    "fig, ax = plt.subplots()\n",
    "ax.bar(mins, peatones_no_evacuados, label = \"Non evacuated\", color = \"grey\")\n",
    "ax.bar(mins, peatones_en_cola, label = \"In congestion\", color = \"gold\", bottom = peatones_no_evacuados)\n",
    "ax.bar(mins, peatones_evacuados, label = \"Evacuated\", color = \"green\", bottom = peatones_aux)\n",
    "ax.set_title(\"Pedestrian evacuation\", fontsize = 30)\n",
    "ax.set_ylabel(\"Evacuated pedestrians\", fontsize = 20)\n",
    "ax.set_xlabel(\"Minutes\", fontsize = 20)\n",
    "plt.xticks(fontsize = 15)\n",
    "plt.yticks(fontsize = 15)\n",
    "plt.legend(prop = {\"size\" : 24}, framealpha = 1)\n",
    "fig.set_size_inches(24,13.5)\n",
    "fig.savefig(\"peatones_plt.png\")\n",
    "plt.show()"
   ]
  },
  {
   "cell_type": "markdown",
   "id": "1b5c8b5c",
   "metadata": {},
   "source": [
    "En estos gráficos son representados las diferentes cantidades de las retenciones de peatones y coches."
   ]
  },
  {
   "cell_type": "code",
   "execution_count": null,
   "id": "5a6b69a2",
   "metadata": {},
   "outputs": [],
   "source": [
    "fig, ax = plt.subplots()\n",
    "ax.plot(mins, coches_en_cola, color = \"blue\", linewidth = 5)\n",
    "ax.set_title(\"Cars in traffic congestion\", fontsize = 30)\n",
    "ax.set_ylabel(\"Cars\", fontsize = 20)\n",
    "ax.set_xlabel(\"Minutes\", fontsize = 20)\n",
    "ax.set_ylim([0,110000])\n",
    "plt.xticks(fontsize = 15)\n",
    "plt.yticks(fontsize = 15)\n",
    "fig.set_size_inches(24,13.5)\n",
    "fig.savefig(\"coches_cola_plt.png\")\n",
    "plt.show()"
   ]
  },
  {
   "cell_type": "code",
   "execution_count": null,
   "id": "7c186db6",
   "metadata": {},
   "outputs": [],
   "source": [
    "fig, ax = plt.subplots()\n",
    "ax.plot(mins, peatones_en_cola, color = \"blue\", linewidth = 5)\n",
    "ax.set_title(\"Pedestrians in traffic congestion\", fontsize = 30)\n",
    "ax.set_ylabel(\"Pedestrians\", fontsize = 20)\n",
    "ax.set_xlabel(\"Minutes\", fontsize = 20)\n",
    "ax.set_ylim([0,175000])\n",
    "plt.xticks(fontsize = 15)\n",
    "plt.yticks(fontsize = 15)\n",
    "fig.set_size_inches(24,13.5)\n",
    "fig.savefig(\"peatones_cola_plt.png\")\n",
    "plt.show()"
   ]
  }
 ],
 "metadata": {
  "kernelspec": {
   "display_name": "Python 3 (ipykernel)",
   "language": "python",
   "name": "python3"
  },
  "language_info": {
   "codemirror_mode": {
    "name": "ipython",
    "version": 3
   },
   "file_extension": ".py",
   "mimetype": "text/x-python",
   "name": "python",
   "nbconvert_exporter": "python",
   "pygments_lexer": "ipython3",
   "version": "3.7.12"
  }
 },
 "nbformat": 4,
 "nbformat_minor": 5
}
